{
 "cells": [
  {
   "cell_type": "code",
   "execution_count": 72,
   "metadata": {},
   "outputs": [],
   "source": [
    "import pandas as pd"
   ]
  },
  {
   "cell_type": "code",
   "execution_count": 73,
   "metadata": {},
   "outputs": [],
   "source": [
    "ppp_data = pd.read_csv(\"foia_150k_plus.csv\")\n"
   ]
  },
  {
   "cell_type": "code",
   "execution_count": 87,
   "metadata": {
    "collapsed": true
   },
   "outputs": [
    {
     "data": {
      "text/html": [
       "<div>\n",
       "<style scoped>\n",
       "    .dataframe tbody tr th:only-of-type {\n",
       "        vertical-align: middle;\n",
       "    }\n",
       "\n",
       "    .dataframe tbody tr th {\n",
       "        vertical-align: top;\n",
       "    }\n",
       "\n",
       "    .dataframe thead th {\n",
       "        text-align: right;\n",
       "    }\n",
       "</style>\n",
       "<table border=\"1\" class=\"dataframe\">\n",
       "  <thead>\n",
       "    <tr style=\"text-align: right;\">\n",
       "      <th></th>\n",
       "      <th>LoanRange</th>\n",
       "      <th>BusinessName</th>\n",
       "      <th>Address</th>\n",
       "      <th>City</th>\n",
       "      <th>State</th>\n",
       "      <th>Zip</th>\n",
       "      <th>NAICSCode</th>\n",
       "      <th>BusinessType</th>\n",
       "      <th>RaceEthnicity</th>\n",
       "      <th>Gender</th>\n",
       "      <th>Veteran</th>\n",
       "      <th>NonProfit</th>\n",
       "      <th>JobsRetained</th>\n",
       "      <th>DateApproved</th>\n",
       "      <th>Lender</th>\n",
       "      <th>CD</th>\n",
       "    </tr>\n",
       "  </thead>\n",
       "  <tbody>\n",
       "    <tr>\n",
       "      <th>0</th>\n",
       "      <td>c $1-2 million</td>\n",
       "      <td>THE STEWART/PERRY COMPANY INC</td>\n",
       "      <td>4855 OVERTON RD</td>\n",
       "      <td>BIRMINGHAM</td>\n",
       "      <td>AL</td>\n",
       "      <td>35210.0</td>\n",
       "      <td>111110.0</td>\n",
       "      <td>Corporation</td>\n",
       "      <td>Unanswered</td>\n",
       "      <td>Male Owned</td>\n",
       "      <td>Unanswered</td>\n",
       "      <td>NaN</td>\n",
       "      <td>62.0</td>\n",
       "      <td>4/6/20</td>\n",
       "      <td>ServisFirst Bank</td>\n",
       "      <td>AL - 06</td>\n",
       "    </tr>\n",
       "    <tr>\n",
       "      <th>1</th>\n",
       "      <td>d $350,000-1 million</td>\n",
       "      <td>R M. GREENE, INC</td>\n",
       "      <td>2400 SPORTSMAN DR</td>\n",
       "      <td>PHENIX CITY</td>\n",
       "      <td>AL</td>\n",
       "      <td>36867.0</td>\n",
       "      <td>111110.0</td>\n",
       "      <td>Corporation</td>\n",
       "      <td>Unanswered</td>\n",
       "      <td>Unanswered</td>\n",
       "      <td>Unanswered</td>\n",
       "      <td>NaN</td>\n",
       "      <td>46.0</td>\n",
       "      <td>4/13/20</td>\n",
       "      <td>Synovus Bank</td>\n",
       "      <td>AL - 03</td>\n",
       "    </tr>\n",
       "    <tr>\n",
       "      <th>2</th>\n",
       "      <td>e $150,000-350,000</td>\n",
       "      <td>LDS INC</td>\n",
       "      <td>414-C MARTIN LUTHER KING JR PKWY S</td>\n",
       "      <td>PHENIX CITY</td>\n",
       "      <td>AL</td>\n",
       "      <td>36869.0</td>\n",
       "      <td>111110.0</td>\n",
       "      <td>Subchapter S Corporation</td>\n",
       "      <td>Unanswered</td>\n",
       "      <td>Unanswered</td>\n",
       "      <td>Unanswered</td>\n",
       "      <td>NaN</td>\n",
       "      <td>56.0</td>\n",
       "      <td>4/28/20</td>\n",
       "      <td>Synovus Bank</td>\n",
       "      <td>AL - 03</td>\n",
       "    </tr>\n",
       "    <tr>\n",
       "      <th>3</th>\n",
       "      <td>e $150,000-350,000</td>\n",
       "      <td>MAGNOLIA GREENE, INC</td>\n",
       "      <td>2401 SPORTSMAN DR</td>\n",
       "      <td>PHENIX CITY</td>\n",
       "      <td>AL</td>\n",
       "      <td>36867.0</td>\n",
       "      <td>111110.0</td>\n",
       "      <td>Corporation</td>\n",
       "      <td>Unanswered</td>\n",
       "      <td>Unanswered</td>\n",
       "      <td>Unanswered</td>\n",
       "      <td>NaN</td>\n",
       "      <td>NaN</td>\n",
       "      <td>4/13/20</td>\n",
       "      <td>Synovus Bank</td>\n",
       "      <td>AL - 03</td>\n",
       "    </tr>\n",
       "    <tr>\n",
       "      <th>4</th>\n",
       "      <td>e $150,000-350,000</td>\n",
       "      <td>PEARSON MANAGEMENT GROUP, INC.</td>\n",
       "      <td>7145 HALCYON SUMMIT DR</td>\n",
       "      <td>MONTGOMERY</td>\n",
       "      <td>AL</td>\n",
       "      <td>36117.0</td>\n",
       "      <td>111110.0</td>\n",
       "      <td>Corporation</td>\n",
       "      <td>Unanswered</td>\n",
       "      <td>Unanswered</td>\n",
       "      <td>Unanswered</td>\n",
       "      <td>NaN</td>\n",
       "      <td>8.0</td>\n",
       "      <td>4/15/20</td>\n",
       "      <td>ServisFirst Bank</td>\n",
       "      <td>AL - 02</td>\n",
       "    </tr>\n",
       "  </tbody>\n",
       "</table>\n",
       "</div>"
      ],
      "text/plain": [
       "              LoanRange                    BusinessName  \\\n",
       "0        c $1-2 million   THE STEWART/PERRY COMPANY INC   \n",
       "1  d $350,000-1 million                R M. GREENE, INC   \n",
       "2    e $150,000-350,000                         LDS INC   \n",
       "3    e $150,000-350,000            MAGNOLIA GREENE, INC   \n",
       "4    e $150,000-350,000  PEARSON MANAGEMENT GROUP, INC.   \n",
       "\n",
       "                              Address         City State      Zip  NAICSCode  \\\n",
       "0                     4855 OVERTON RD   BIRMINGHAM    AL  35210.0   111110.0   \n",
       "1                   2400 SPORTSMAN DR  PHENIX CITY    AL  36867.0   111110.0   \n",
       "2  414-C MARTIN LUTHER KING JR PKWY S  PHENIX CITY    AL  36869.0   111110.0   \n",
       "3                   2401 SPORTSMAN DR  PHENIX CITY    AL  36867.0   111110.0   \n",
       "4              7145 HALCYON SUMMIT DR   MONTGOMERY    AL  36117.0   111110.0   \n",
       "\n",
       "               BusinessType RaceEthnicity      Gender     Veteran NonProfit  \\\n",
       "0               Corporation    Unanswered  Male Owned  Unanswered       NaN   \n",
       "1               Corporation    Unanswered  Unanswered  Unanswered       NaN   \n",
       "2  Subchapter S Corporation    Unanswered  Unanswered  Unanswered       NaN   \n",
       "3               Corporation    Unanswered  Unanswered  Unanswered       NaN   \n",
       "4               Corporation    Unanswered  Unanswered  Unanswered       NaN   \n",
       "\n",
       "   JobsRetained DateApproved            Lender       CD  \n",
       "0          62.0       4/6/20  ServisFirst Bank  AL - 06  \n",
       "1          46.0      4/13/20      Synovus Bank  AL - 03  \n",
       "2          56.0      4/28/20      Synovus Bank  AL - 03  \n",
       "3           NaN      4/13/20      Synovus Bank  AL - 03  \n",
       "4           8.0      4/15/20  ServisFirst Bank  AL - 02  "
      ]
     },
     "execution_count": 87,
     "metadata": {},
     "output_type": "execute_result"
    }
   ],
   "source": [
    "ppp_data.head()"
   ]
  },
  {
   "cell_type": "code",
   "execution_count": 31,
   "metadata": {
    "collapsed": true
   },
   "outputs": [
    {
     "data": {
      "text/plain": [
       "Index(['LoanRange', 'BusinessName', 'Address', 'City', 'State', 'Zip',\n",
       "       'NAICSCode', 'BusinessType', 'RaceEthnicity', 'Gender', 'Veteran',\n",
       "       'NonProfit', 'JobsRetained', 'DateApproved', 'Lender', 'CD'],\n",
       "      dtype='object')"
      ]
     },
     "execution_count": 31,
     "metadata": {},
     "output_type": "execute_result"
    }
   ],
   "source": [
    "ppp_data.columns\n"
   ]
  },
  {
   "cell_type": "code",
   "execution_count": 74,
   "metadata": {
    "scrolled": true
   },
   "outputs": [
    {
     "data": {
      "text/plain": [
       "(661218, 16)"
      ]
     },
     "execution_count": 74,
     "metadata": {},
     "output_type": "execute_result"
    }
   ],
   "source": [
    "ppp_data.shape\n"
   ]
  },
  {
   "cell_type": "code",
   "execution_count": 75,
   "metadata": {},
   "outputs": [],
   "source": [
    "#Pull restaurant-specific NAICS Codes out of the main 150k+ document\n",
    "\n",
    "dfbar = ppp_data.loc[ppp_data['NAICSCode'] ==722410]\n",
    "dffsr = ppp_data.loc[ppp_data['NAICSCode'] ==722511]\n",
    "dfls = ppp_data.loc[ppp_data['NAICSCode'] ==722513]\n",
    "dfcaf = ppp_data.loc[ppp_data['NAICSCode'] ==722514]\n",
    "dfsnack = ppp_data.loc[ppp_data['NAICSCode'] ==722515]\n",
    "dfmobile = ppp_data.loc[ppp_data['NAICSCode'] ==722330]\n",
    "#dfall = ppp_data[ppp_data['NAICSCode'].contains(72)\n",
    "\n",
    "\n"
   ]
  },
  {
   "cell_type": "code",
   "execution_count": 76,
   "metadata": {},
   "outputs": [],
   "source": [
    "dflist =[dfbar,dffsr,dfls,dfcaf,dfsnack,dfmobile]"
   ]
  },
  {
   "cell_type": "code",
   "execution_count": 77,
   "metadata": {},
   "outputs": [],
   "source": [
    "dfall = pd.concat(dflist)"
   ]
  },
  {
   "cell_type": "code",
   "execution_count": 78,
   "metadata": {},
   "outputs": [
    {
     "data": {
      "text/plain": [
       "(46747, 16)"
      ]
     },
     "execution_count": 78,
     "metadata": {},
     "output_type": "execute_result"
    }
   ],
   "source": [
    "dfall.shape\n",
    "#HERE"
   ]
  },
  {
   "cell_type": "code",
   "execution_count": 60,
   "metadata": {},
   "outputs": [],
   "source": [
    "dfall.to_csv (r'\\Downloads\\over150k_US.csv', index = False, header=True)"
   ]
  },
  {
   "cell_type": "code",
   "execution_count": 80,
   "metadata": {},
   "outputs": [],
   "source": [
    "ppp_sub150 = pd.read_csv(\"sub_150k_US.csv\")\n",
    "ppp_over150 = pd.read_csv(\"over150k_US.csv\")"
   ]
  },
  {
   "cell_type": "code",
   "execution_count": 81,
   "metadata": {},
   "outputs": [
    {
     "data": {
      "text/plain": [
       "(230554, 16)"
      ]
     },
     "execution_count": 81,
     "metadata": {},
     "output_type": "execute_result"
    }
   ],
   "source": [
    "ppp_sub150.shape #shoud be more than 230554, 16 (with sub 150 bars included)"
   ]
  },
  {
   "cell_type": "code",
   "execution_count": 82,
   "metadata": {},
   "outputs": [
    {
     "data": {
      "text/plain": [
       "(46747, 16)"
      ]
     },
     "execution_count": 82,
     "metadata": {},
     "output_type": "execute_result"
    }
   ],
   "source": [
    "ppp_over150.shape #shoud be 46747, 16"
   ]
  },
  {
   "cell_type": "code",
   "execution_count": 53,
   "metadata": {
    "scrolled": true
   },
   "outputs": [
    {
     "name": "stderr",
     "output_type": "stream",
     "text": [
      "/anaconda3/lib/python3.7/site-packages/ipykernel_launcher.py:2: FutureWarning: Sorting because non-concatenation axis is not aligned. A future version\n",
      "of pandas will change to not sort by default.\n",
      "\n",
      "To accept the future behavior, pass 'sort=False'.\n",
      "\n",
      "To retain the current behavior and silence the warning, pass 'sort=True'.\n",
      "\n",
      "  \n"
     ]
    }
   ],
   "source": [
    "#Combine both CSVs into a single list, then concat to a single data frame\n",
    "df_all_US =[ppp_sub150,ppp_over150]\n",
    "ppp_allUS_rests = pd.concat(df_all_US)"
   ]
  },
  {
   "cell_type": "code",
   "execution_count": 86,
   "metadata": {
    "scrolled": true
   },
   "outputs": [
    {
     "data": {
      "text/plain": [
       "Index(['Address', 'BusinessName', 'BusinessType', 'CD', 'City', 'DateApproved',\n",
       "       'Gender', 'JobsRetained', 'Lender', 'LoanAmount', 'LoanRange',\n",
       "       'NAICSCode', 'NonProfit', 'RaceEthnicity', 'State', 'Veteran', 'Zip'],\n",
       "      dtype='object')"
      ]
     },
     "execution_count": 86,
     "metadata": {},
     "output_type": "execute_result"
    }
   ],
   "source": [
    "ppp_allUS_rests.columns"
   ]
  },
  {
   "cell_type": "code",
   "execution_count": 88,
   "metadata": {},
   "outputs": [
    {
     "data": {
      "text/plain": [
       "(277301, 17)"
      ]
     },
     "execution_count": 88,
     "metadata": {},
     "output_type": "execute_result"
    }
   ],
   "source": [
    "ppp_allUS_rests.shape  #shoud be more than 277301, 16 (with sub 150 bars included)"
   ]
  },
  {
   "cell_type": "code",
   "execution_count": 56,
   "metadata": {},
   "outputs": [],
   "source": [
    "#All Restaurants pull NAICS Codes via ppp_allUS_rests\n",
    "\n",
    "dfbars = ppp_allUS_rests.loc[ppp_allUS_rests['NAICSCode'] ==722410]\n",
    "dffsr = ppp_allUS_rests.loc[ppp_allUS_rests['NAICSCode'] ==722511]\n",
    "dfqsr = ppp_allUS_rests.loc[ppp_allUS_rests['NAICSCode'] ==722513]\n",
    "dfcaf = ppp_allUS_rests.loc[ppp_allUS_rests['NAICSCode'] ==722514]\n",
    "dfsnk = ppp_allUS_rests.loc[ppp_allUS_rests['NAICSCode'] ==722515]\n",
    "dfmobile = ppp_allUS_rests.loc[ppp_allUS_rests['NAICSCode'] ==722330]\n",
    "\n"
   ]
  },
  {
   "cell_type": "code",
   "execution_count": 57,
   "metadata": {},
   "outputs": [],
   "source": [
    "#Sub 150k pull NAICS Codes via ppp_sub150\n",
    "\n",
    "Sdfbars = ppp_sub150.loc[ppp_sub150['NAICSCode'] ==722410]\n",
    "Sdffsr = ppp_sub150.loc[ppp_sub150['NAICSCode'] ==722511]\n",
    "Sdfqsr = ppp_sub150.loc[ppp_sub150['NAICSCode'] ==722513]\n",
    "Sdfcaf = ppp_sub150.loc[ppp_sub150['NAICSCode'] ==722514]\n",
    "Sdfsnk = ppp_sub150.loc[ppp_sub150['NAICSCode'] ==722515]\n",
    "Sdfmobile = ppp_sub150.loc[ppp_sub150['NAICSCode'] ==722330]"
   ]
  },
  {
   "cell_type": "code",
   "execution_count": 58,
   "metadata": {},
   "outputs": [],
   "source": [
    "#Over 150k pull NAICS Codes via ppp_over150\n",
    "\n",
    "Odfbars = ppp_over150.loc[ppp_over150['NAICSCode'] ==722410]\n",
    "Odffsr = ppp_over150.loc[ppp_over150['NAICSCode'] ==722511]\n",
    "Odfqsr = ppp_over150.loc[ppp_over150['NAICSCode'] ==722513]\n",
    "Odfcaf = ppp_over150.loc[ppp_over150['NAICSCode'] ==722514]\n",
    "Odfsnk = ppp_over150.loc[ppp_over150['NAICSCode'] ==722515]\n",
    "Odfmobile = ppp_over150.loc[ppp_over150['NAICSCode'] ==722330]"
   ]
  },
  {
   "cell_type": "code",
   "execution_count": 89,
   "metadata": {},
   "outputs": [
    {
     "name": "stdout",
     "output_type": "stream",
     "text": [
      "\n",
      "__________ Sub $150k Restaurants _________________\n",
      "Bars: 0\n",
      "Mobile: 3729\n",
      "Full-Service: 136863\n",
      "QSR: 67806\n",
      "Cafeteria: 2102\n",
      "Snack & Cafe: 12501\n",
      "All Restaurants sub $150k: 230554\n",
      "\n",
      "__________ $150k+ Restaurants _________________\n",
      "Bars: 1827\n",
      "Mobile: 95\n",
      "Full-Service: 33608\n",
      "QSR: 10207\n",
      "Cafeteria: 211\n",
      "Snack & Cafe: 799\n",
      "All Restaurants over $150k: 46747\n",
      "\n",
      "__________ All Restaurants _________________\n",
      "Bars: 1827\n",
      "Mobile: 95\n",
      "Full-Service: 33608\n",
      "QSR: 78013\n",
      "Cafeteria: 211\n",
      "Snack & Cafe: 13300\n",
      "All Restaurants: 277301\n"
     ]
    }
   ],
   "source": [
    "#Print out the final tally of loan recipients\n",
    "\n",
    "print('')\n",
    "print('__________ Sub $150k Restaurants _________________')\n",
    "\n",
    "#Sub 150k\n",
    "print('Bars: ' + str(len(Sdfbars)))\n",
    "print('Mobile: ' + str(len(Sdfmobile)))\n",
    "print('Full-Service: ' + str(len(Sdffsr)))\n",
    "print('QSR: ' + str(len(Sdfqsr)))\n",
    "print('Cafeteria: ' + str(len(Sdfcaf)))\n",
    "print('Snack & Cafe: ' + str(len(Sdfsnk)))\n",
    "print('All Restaurants sub $150k: ' + str(len(ppp_sub150)))\n",
    "\n",
    "print('')\n",
    "print('__________ $150k+ Restaurants _________________')\n",
    "\n",
    "#over 150k\n",
    "print('Bars: ' + str(len(Odfbars)))\n",
    "print('Mobile: ' + str(len(Odfmobile)))\n",
    "print('Full-Service: ' + str(len(Odffsr)))\n",
    "print('QSR: ' + str(len(Odfqsr)))\n",
    "print('Cafeteria: ' + str(len(Odfcaf)))\n",
    "print('Snack & Cafe: ' + str(len(Odfsnk)))\n",
    "print('All Restaurants over $150k: ' + str(len(ppp_over150)))\n",
    "\n",
    "print('')\n",
    "print('__________ All Restaurants _________________')\n",
    "\n",
    "#All restaurants \n",
    "print('Bars: ' + str(len(dfbars)))\n",
    "print('Mobile: ' + str(len(dfmobile)))\n",
    "print('Full-Service: ' + str(len(dffsr)))\n",
    "print('QSR: ' + str(len(dfqsr)))\n",
    "print('Cafeteria: ' + str(len(dfcaf)))\n",
    "print('Snack & Cafe: ' + str(len(dfsnk)))\n",
    "print('All Restaurants: ' + str(len(ppp_allUS_rests)))\n"
   ]
  },
  {
   "cell_type": "code",
   "execution_count": null,
   "metadata": {},
   "outputs": [],
   "source": [
    "\n",
    "\n"
   ]
  }
 ],
 "metadata": {
  "kernelspec": {
   "display_name": "Python 3",
   "language": "python",
   "name": "python3"
  },
  "language_info": {
   "codemirror_mode": {
    "name": "ipython",
    "version": 3
   },
   "file_extension": ".py",
   "mimetype": "text/x-python",
   "name": "python",
   "nbconvert_exporter": "python",
   "pygments_lexer": "ipython3",
   "version": "3.7.3"
  }
 },
 "nbformat": 4,
 "nbformat_minor": 2
}
